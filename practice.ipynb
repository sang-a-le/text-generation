{
 "cells": [
  {
   "cell_type": "markdown",
   "id": "3ad10607",
   "metadata": {
    "id": "3ad10607"
   },
   "source": [
    "# 간단한 전이학습 시켜보기"
   ]
  },
  {
   "cell_type": "markdown",
   "id": "205f2980",
   "metadata": {
    "id": "205f2980"
   },
   "source": [
    "1. 주제를 정한다.\n",
    "2. 주제에 맞는 태스크를 판단한다.\n",
    "3. 해당 테스크를 수행하는 모델을 huggingface에서 찾는다.\n",
    "4. 적절한 데이터셋을 정제하여 준비한다.\n",
    "5. 3에서 찾은 모델을 로드라여 '간단하게' 전이학습을 진행한다.\n",
    "6. 추론 결과를 확인한다."
   ]
  },
  {
   "cell_type": "markdown",
   "id": "40dab1b0",
   "metadata": {
    "id": "40dab1b0"
   },
   "source": [
    "------"
   ]
  },
  {
   "cell_type": "markdown",
   "id": "e81ad439",
   "metadata": {
    "id": "e81ad439"
   },
   "source": [
    "# 단어에 대한 이야기 반환"
   ]
  },
  {
   "cell_type": "code",
   "execution_count": 1,
   "id": "5937afca",
   "metadata": {
    "id": "5937afca"
   },
   "outputs": [],
   "source": [
    "from transformers import pipeline\n",
    "import pandas as pd\n",
    "import random"
   ]
  },
  {
   "cell_type": "code",
   "execution_count": 2,
   "id": "5240e8bc",
   "metadata": {
    "colab": {
     "base_uri": "https://localhost:8080/",
     "height": 336,
     "referenced_widgets": [
      "de712f73239944129f85b00dbe20e4ca",
      "f1d2ed786a394ede9496e984bbe13e91",
      "39b7706aab0349bb83fb1d6cc8b80c3c",
      "dbaf393d7ce24b0f890b5d6de25f7fc3",
      "11b51be410744abe9a039b12e5bcbd1e",
      "fc2e37c2232f4afb89b14ec6e762e36e",
      "6ab296c170ec4776ace7ff46d5fefc56",
      "50d23a0ec3654bd3a35822def2e565e8",
      "b155fdfc619e486180c60eae3069f6a0",
      "161d3381cd6e4ef08b4dcf3ad2ceb873",
      "744810c0ff754223ba83dafa13d2a7e8",
      "424ed40813e940d4b8a86988a0393fe3",
      "c0551e22546c460e901cd455078644d2",
      "48963aad1e07429ebea2966801297998",
      "6d2c6847c0444ef9992ae0aace11de41",
      "c86d16b3bac7457eb78047e1edafd798",
      "da466d31369d47df9038389e52497e40",
      "f04b914911e2460181e48ad758e44053",
      "d6b21ae2548f4807b48068393fbbc06b",
      "33caf4097eba4e85aaa658b37d3cfa8e",
      "bf4ae7280cdd480d888d7c51d2ee3fdd",
      "0b53fd1634ff404ea24b7ec6063b3f26",
      "5f8e224a489b49efad59ce2696e4ab77",
      "79bf7c37debb43e18ffe015173a0e66e",
      "8f4344de3df0471aa932f61a4d5125e5",
      "4dce476a82cf43db94f553f3512e253a",
      "02411523721f422782414abf1c882260",
      "d38d0f0952aa4915a6ffa2f791a7176b",
      "584b8e900bae42439fe4b994131ab7fb",
      "881702ed862c4db495a2af96bd048693",
      "648ee1f53fa9402ca4afe79db147f292",
      "cbb97b2595d846eca93fc8112eba2f7c",
      "796e650fc1bb458ebaabfe87bbd6fa44",
      "01c5a6f2871448ecaf3c155c11def16e",
      "163341cf8d294a5a862cd906678886b4",
      "76fbeca33ab84f8484489f72262c5c6e",
      "c73a773ec5e741589b186d1b19cb10cc",
      "3673efeb57004f4c9007ebfc2ee7f0ff",
      "ede9222abe3949498c2040a78202367e",
      "a7564cf44a5f40dd9324a7dfc9771e1d",
      "b90d5ae036d2478e9679b5b8ff08940a",
      "99fe8b20d87743ab985d0992634d3d89",
      "1be15f9398d842388b37cfade5cc075d",
      "0aa3db216cc845c890194e283b501da7",
      "920042b712d64d6d99d8669c21293f26",
      "353ef75d7850476c8c5a2e358953d17c",
      "2a7e2fa9a1214b339e5d5338db8a0fd2",
      "6e1b02b12ba740628d717e74574472f0",
      "cb3133658f884aa9b6749e1486f28e3c",
      "91dbe1b89a0b4c67ae57785ebb5a6508",
      "3e802ce7b1af4167a156d25aef3f93f7",
      "e9ad03e275b74f71ad8317d10f5d9b8f",
      "98d801f5c15e46afad830e871fc906dc",
      "8d489761b6184cf4a2362ef1d1c84881",
      "d211405ae1ca42f4a77219975672fe11",
      "34ed561fa34c4d7baa76dcb5948ea62e",
      "6c746f27fd0b47ad998fc231f23e6cdf",
      "dbe7c745f0094df5a7077ca7e7788dd4",
      "a6bed0f426314f2cb9e825e5a004785b",
      "31b0033f02334ff4bdcf9f8ba4c4b676",
      "0681011e129d4959a88e2e42fdb34eb7",
      "a04175e89fd540e1bec3f09a5d968d41",
      "1f3cad8b02d3422ca435146366bca40d",
      "85dbdf71c1b94768a55556ad335545ad",
      "27fb07de486348f486394b5d0cf0dd3d",
      "9caae7fac6bd43d7a169970468476bfe"
     ]
    },
    "id": "5240e8bc",
    "outputId": "a941a860-e621-4ef0-8398-6b998b0cf129"
   },
   "outputs": [
    {
     "output_type": "stream",
     "name": "stderr",
     "text": [
      "/usr/local/lib/python3.12/dist-packages/huggingface_hub/utils/_auth.py:94: UserWarning: \n",
      "The secret `HF_TOKEN` does not exist in your Colab secrets.\n",
      "To authenticate with the Hugging Face Hub, create a token in your settings tab (https://huggingface.co/settings/tokens), set it as secret in your Google Colab and restart your session.\n",
      "You will be able to reuse this secret in all of your notebooks.\n",
      "Please note that authentication is recommended but still optional to access public models or datasets.\n",
      "  warnings.warn(\n"
     ]
    },
    {
     "output_type": "display_data",
     "data": {
      "text/plain": [
       "config.json:   0%|          | 0.00/731 [00:00<?, ?B/s]"
      ],
      "application/vnd.jupyter.widget-view+json": {
       "version_major": 2,
       "version_minor": 0,
       "model_id": "de712f73239944129f85b00dbe20e4ca"
      }
     },
     "metadata": {}
    },
    {
     "output_type": "display_data",
     "data": {
      "text/plain": [
       "pytorch_model.bin:   0%|          | 0.00/4.68G [00:00<?, ?B/s]"
      ],
      "application/vnd.jupyter.widget-view+json": {
       "version_major": 2,
       "version_minor": 0,
       "model_id": "424ed40813e940d4b8a86988a0393fe3"
      }
     },
     "metadata": {}
    },
    {
     "output_type": "display_data",
     "data": {
      "text/plain": [
       "model.safetensors:   0%|          | 0.00/4.68G [00:00<?, ?B/s]"
      ],
      "application/vnd.jupyter.widget-view+json": {
       "version_major": 2,
       "version_minor": 0,
       "model_id": "5f8e224a489b49efad59ce2696e4ab77"
      }
     },
     "metadata": {}
    },
    {
     "output_type": "display_data",
     "data": {
      "text/plain": [
       "tokenizer_config.json:   0%|          | 0.00/2.00 [00:00<?, ?B/s]"
      ],
      "application/vnd.jupyter.widget-view+json": {
       "version_major": 2,
       "version_minor": 0,
       "model_id": "01c5a6f2871448ecaf3c155c11def16e"
      }
     },
     "metadata": {}
    },
    {
     "output_type": "display_data",
     "data": {
      "text/plain": [
       "tokenizer.json: 0.00B [00:00, ?B/s]"
      ],
      "application/vnd.jupyter.widget-view+json": {
       "version_major": 2,
       "version_minor": 0,
       "model_id": "920042b712d64d6d99d8669c21293f26"
      }
     },
     "metadata": {}
    },
    {
     "output_type": "display_data",
     "data": {
      "text/plain": [
       "special_tokens_map.json:   0%|          | 0.00/109 [00:00<?, ?B/s]"
      ],
      "application/vnd.jupyter.widget-view+json": {
       "version_major": 2,
       "version_minor": 0,
       "model_id": "34ed561fa34c4d7baa76dcb5948ea62e"
      }
     },
     "metadata": {}
    },
    {
     "output_type": "stream",
     "name": "stderr",
     "text": [
      "Device set to use cpu\n"
     ]
    }
   ],
   "source": [
    "kogpt = pipeline(\"text-generation\", model=\"skt/ko-gpt-trinity-1.2B-v0.5\")"
   ]
  },
  {
   "cell_type": "code",
   "execution_count": 4,
   "id": "eb0deef9",
   "metadata": {
    "id": "eb0deef9"
   },
   "outputs": [],
   "source": [
    "prompts_df = pd.read_csv('prompt.txt', encoding='utf-8', sep='\\t', header=None, dtype=str)\n",
    "prompts = prompts_df[0].astype(str).tolist()"
   ]
  },
  {
   "cell_type": "code",
   "execution_count": 5,
   "id": "2a9b4081",
   "metadata": {
    "colab": {
     "base_uri": "https://localhost:8080/"
    },
    "id": "2a9b4081",
    "outputId": "aa675ed1-480c-40ce-922b-b58982133c3b"
   },
   "outputs": [
    {
     "output_type": "execute_result",
     "data": {
      "text/plain": [
       "[\"옛날 옛적에 '{word}'(이)라는 이름을 가진 작은 친구가 살고 있었어요. 그 친구는 매일 특별한 모험을 떠나곤 했지요.\",\n",
       " '{word}은(는) 단순한 물건이 아니었어요. 그에게는 마음이 있었고, 세상을 여행하고 싶어 했답니다. 그러던 어느 날!',\n",
       " \"숲 속 깊은 곳, 햇빛이 가득한 언덕에 '{word}'이(가) 자라고 있었어요. 그리고 어느 날, 놀라운 일이 벌어졌습니다. \",\n",
       " '옛날에 {word}(이)라는 특별한 존재가 있었어요. 그는 사람들에게 중요한 가르침을 주고 싶어 했지요. 이야기는 이렇게 시작됩니다. ',\n",
       " '옛날 옛적에 {word}(이)라는 이름을 가진 작은 마을이 있었어요. ',\n",
       " '{word}(이)라는 단어로 시작하는 동화를 들려줄게. ',\n",
       " '울창한 숲 속, 산새들이 노래하고, 사슴과 노루가 뛰노는 아름다운 곳에서 {word}이(가) 태어났어요. 그 아이는 커서',\n",
       " \"어느 화창한 봄 날 {word}은(는) 결심했어요! '나는 바다를 보러 갈거야!'. 사실 {word}은(는) 한 번도 바다를 본 적이 없었죠. 그렇게 {word}의 모험이 시작됐어요!\",\n",
       " \"깊은 바다 속에 살고있는 꽃게는 어느 날 {word}이(가) 궁금해졌어요. '도대체 {word}이(가) 무엇일까? 직접 보고싶어!'. \"]"
      ]
     },
     "metadata": {},
     "execution_count": 5
    }
   ],
   "source": [
    "prompts"
   ]
  },
  {
   "cell_type": "code",
   "execution_count": 6,
   "id": "5c227b90",
   "metadata": {
    "colab": {
     "base_uri": "https://localhost:8080/"
    },
    "id": "5c227b90",
    "outputId": "c9220a8c-0c1b-4302-e9b4-1d5ebf91c1d6"
   },
   "outputs": [
    {
     "output_type": "stream",
     "name": "stdout",
     "text": [
      "깊은 바다 속에 살고있는 꽃게는 어느 날 하늘이(가) 궁금해졌어요. '도대체 하늘이(가) 무엇일까? 직접 보고싶어!'. \n"
     ]
    }
   ],
   "source": [
    "word = \"하늘\"\n",
    "\n",
    "sent = ''\n",
    "\n",
    "def fill_word(sentence: str, word: str) -> str:\n",
    "    return sentence.replace(\"{word}\", word)\n",
    "\n",
    "s = random.choice(prompts)\n",
    "sent = fill_word(s, word)\n",
    "\n",
    "print(sent)\n",
    "\n",
    "prompt = f\"{sent}\\n\\n이 문장을 시작으로 동화를 이어 써라.\"\n"
   ]
  },
  {
   "cell_type": "code",
   "execution_count": 11,
   "id": "7280ae89",
   "metadata": {
    "colab": {
     "base_uri": "https://localhost:8080/"
    },
    "id": "7280ae89",
    "outputId": "17e0994d-2098-4270-d7f3-3624269fc782"
   },
   "outputs": [
    {
     "output_type": "stream",
     "name": "stdout",
     "text": [
      "첫 문장: 어느 화창한 봄 날 하늘은(는) 결심했어요! '나는 바다를 보러 갈거야!'. 사실 하늘은(는) 한 번도 바다를 본 적이 없었죠. 그렇게 하늘의 모험이 시작됐어요!\n",
      "\n",
      "=== 생성된 동화 ===\n",
      " 바다에서 헤엄쳐 나온 하늘이는 친구들에게 바다에서 온 사람이라고 말했어요. 바다에서 모험을 하면서 하늘이는 바다에서 함께 놀 친구가 필요했어요. 하지만 하늘이는 그 친구를 찾을 수 없었어요. 하늘이는 헤엄치는 것도 힘들어하고, 바다에서 혼자 놀았어요. 바다에서는 혼자 놀아야만 했죠. 하늘이는 너무 심심했어요. 친구들은 하늘이가 외로울 거라고 생각했어요. 하늘이는 친구들이 있는 곳으로 갔어요. 하늘이와 친구들이 함께 있었어요. 하늘이가 바다에서 처음 만난 친구들은 모두 바다를 본 적 없는 친구들이었죠. 하늘이의 친구들은 바다를 본적도 없어요. 하늘이는 바닷속에서 나온 지 얼마 되지 않아 친구들과 친해졌어요. 바다 속에서 하늘이는 친구를 알아보았죠. 바다 속에서 헤엄친 지 얼마 되지도 않아 바다를 본 친구들을 만났어요. 하늘이의 친구들이 모두 하늘이를 알아보았어요. 하늘이를 찾았다는 건 하늘이가 친구를 찾았다는 뜻이었죠. 하지만 하늘이가 찾은 친구들은 바다에서 바다로 헤엄치지 않았어요. 바다 속에서는 하늘이가 친구들을 찾을 수 있었거든요. 친구\n"
     ]
    }
   ],
   "source": [
    "import random\n",
    "\n",
    "\n",
    "# 4) 동화 생성 함수\n",
    "def make_fairytale(word: str, max_new_tokens: int = 220, seed: int | None = None) -> dict:\n",
    "\n",
    "    sent = ''\n",
    "\n",
    "    # 앞 문장 임의 선택\n",
    "    def fill_word(sentence: str, word: str) -> str:\n",
    "        return sentence.replace(\"{word}\", word)\n",
    "\n",
    "    s = random.choice(prompts)\n",
    "    sent = fill_word(s, word)\n",
    "\n",
    "    instruction = (\n",
    "        \"위 문장을 첫 문장으로 삼아, 초등학생이 읽기 쉬운 한국어 동화를 \"\n",
    "        \"8~12문장으로 이어서 써줘. 따뜻한 결말로 마무리하고, 문장 반복은 피해.\"\n",
    "    )\n",
    "    # prompt = f\"{sent}\\n\\n{instruction}\"\n",
    "\n",
    "    gen = kogpt(sent, max_new_tokens=max_new_tokens, return_full_text=False, no_repeat_ngram_size=3\n",
    "        # do_sample=True,\n",
    "        # temperature=0.8,                 # 창의성 (0.7~1.0에서 조절)\n",
    "        # top_p=0.9,                       # 누적 확률 샘플링\n",
    "        # repetition_penalty=1.1,          # 반복 억제\n",
    "        # no_repeat_ngram_size=3,          # 3-그램 반복 방지\n",
    "    )[0][\"generated_text\"].strip()\n",
    "\n",
    "    return {\"first_sentence\": sent, \"story\": f\"{gen}\"}\n",
    "\n",
    "# 5) 사용 예\n",
    "result = make_fairytale(word='하늘', max_new_tokens=200, seed=42)\n",
    "print(\"첫 문장:\", result[\"first_sentence\"])\n",
    "print(\"\\n=== 생성된 동화 ===\\n\", result[\"story\"])\n"
   ]
  },
  {
   "cell_type": "markdown",
   "source": [
    "----------------------------"
   ],
   "metadata": {
    "id": "4FpkTVo5kDeT"
   },
   "id": "4FpkTVo5kDeT"
  },
  {
   "cell_type": "code",
   "execution_count": null,
   "id": "bbd37de9",
   "metadata": {
    "id": "bbd37de9"
   },
   "outputs": [],
   "source": [
    "# def fill_word(sentence: str, word: str) -> str:\n",
    "#         return sentence.replace(\"{word}\", word)\n",
    "# s = random.choice(prompts)\n",
    "# word = \"하늘\"\n",
    "# sent = fill_word(s, word)\n",
    "# print(sent)"
   ]
  },
  {
   "cell_type": "code",
   "execution_count": null,
   "id": "8809836e",
   "metadata": {
    "id": "8809836e"
   },
   "outputs": [],
   "source": [
    "# instruction = (\n",
    "#         \"위 문장을 첫 문장으로 삼아, 초등학생이 읽기 쉬운 한국어 동화를 \"\n",
    "#         \"8~12문장으로 이어서 써줘. 따뜻한 결말로 마무리하고, 문장 반복은 피해.\"\n",
    "# )\n",
    "\n",
    "# prompt = f\"{sent}\\n\\n{instruction}\"\n",
    "\n",
    "# gen = kogpt(sent, max_new_tokens=500, return_full_text=False)[0][\"generated_text\"].strip()"
   ]
  },
  {
   "cell_type": "code",
   "execution_count": null,
   "id": "41003dfa",
   "metadata": {
    "id": "41003dfa"
   },
   "outputs": [],
   "source": [
    "# print(\"첫 문장:\", sent)\n",
    "# print(\"\\n=== 생성된 동화 ===\\n\", gen)"
   ]
  }
 ],
 "metadata": {
  "kernelspec": {
   "display_name": "nlp_env",
   "language": "python",
   "name": "python3"
  },
  "language_info": {
   "codemirror_mode": {
    "name": "ipython",
    "version": 3
   },
   "file_extension": ".py",
   "mimetype": "text/x-python",
   "name": "python",
   "nbconvert_exporter": "python",
   "pygments_lexer": "ipython3",
   "version": "3.12.11"
  },
  "colab": {
   "provenance": []
  }
 },
 "nbformat": 4,
 "nbformat_minor": 5
}